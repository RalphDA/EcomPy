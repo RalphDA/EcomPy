{
 "cells": [
  {
   "cell_type": "markdown",
   "metadata": {},
   "source": [
    "Après le regroupement des visiteurs en quatre clusters par un algorithme d'apprentissage non supervisé, \n",
    "on s'intéresse maintenant à prédire le nombre de transactions effectuées par un visiteur en fonction du nombre de vues et \n",
    "et du nombre de mises au panier à l'aide d'un modèle de regression linéaire.\n",
    "On ré-importe les packages et le DataSet \"events\""
   ]
  },
  {
   "cell_type": "code",
   "execution_count": 1,
   "metadata": {},
   "outputs": [],
   "source": [
    "#Les packages\n",
    "import pandas as pd\n",
    "import numpy as np\n",
    "import matplotlib.pyplot as plt\n",
    "import seaborn as sns"
   ]
  },
  {
   "cell_type": "code",
   "execution_count": 2,
   "metadata": {},
   "outputs": [
    {
     "data": {
      "text/html": [
       "<div>\n",
       "<style scoped>\n",
       "    .dataframe tbody tr th:only-of-type {\n",
       "        vertical-align: middle;\n",
       "    }\n",
       "\n",
       "    .dataframe tbody tr th {\n",
       "        vertical-align: top;\n",
       "    }\n",
       "\n",
       "    .dataframe thead th {\n",
       "        text-align: right;\n",
       "    }\n",
       "</style>\n",
       "<table border=\"1\" class=\"dataframe\">\n",
       "  <thead>\n",
       "    <tr style=\"text-align: right;\">\n",
       "      <th></th>\n",
       "      <th>timestamp</th>\n",
       "      <th>visitorid</th>\n",
       "      <th>event</th>\n",
       "      <th>itemid</th>\n",
       "      <th>transactionid</th>\n",
       "    </tr>\n",
       "  </thead>\n",
       "  <tbody>\n",
       "    <tr>\n",
       "      <th>0</th>\n",
       "      <td>1433221332117</td>\n",
       "      <td>257597</td>\n",
       "      <td>view</td>\n",
       "      <td>355908</td>\n",
       "      <td>NaN</td>\n",
       "    </tr>\n",
       "    <tr>\n",
       "      <th>1</th>\n",
       "      <td>1433224214164</td>\n",
       "      <td>992329</td>\n",
       "      <td>view</td>\n",
       "      <td>248676</td>\n",
       "      <td>NaN</td>\n",
       "    </tr>\n",
       "    <tr>\n",
       "      <th>2</th>\n",
       "      <td>1433221999827</td>\n",
       "      <td>111016</td>\n",
       "      <td>view</td>\n",
       "      <td>318965</td>\n",
       "      <td>NaN</td>\n",
       "    </tr>\n",
       "    <tr>\n",
       "      <th>3</th>\n",
       "      <td>1433221955914</td>\n",
       "      <td>483717</td>\n",
       "      <td>view</td>\n",
       "      <td>253185</td>\n",
       "      <td>NaN</td>\n",
       "    </tr>\n",
       "    <tr>\n",
       "      <th>4</th>\n",
       "      <td>1433221337106</td>\n",
       "      <td>951259</td>\n",
       "      <td>view</td>\n",
       "      <td>367447</td>\n",
       "      <td>NaN</td>\n",
       "    </tr>\n",
       "  </tbody>\n",
       "</table>\n",
       "</div>"
      ],
      "text/plain": [
       "       timestamp  visitorid event  itemid  transactionid\n",
       "0  1433221332117     257597  view  355908            NaN\n",
       "1  1433224214164     992329  view  248676            NaN\n",
       "2  1433221999827     111016  view  318965            NaN\n",
       "3  1433221955914     483717  view  253185            NaN\n",
       "4  1433221337106     951259  view  367447            NaN"
      ]
     },
     "execution_count": 2,
     "metadata": {},
     "output_type": "execute_result"
    }
   ],
   "source": [
    "#Lecture du data set 'Events'\n",
    "events = pd.read_csv('PycharmProjects/Projet-Fil-Rouge/DataSets/events.csv', sep= ',')\n",
    "\n",
    "#Affichage des 5 premières lignes\n",
    "events.head()"
   ]
  },
  {
   "cell_type": "markdown",
   "metadata": {},
   "source": [
    "La variable 'event' est dichotomisée afin de faire ressortir chaque type d'action puis est ajouté au dataframe transac_df"
   ]
  },
  {
   "cell_type": "code",
   "execution_count": 3,
   "metadata": {},
   "outputs": [],
   "source": [
    "transac_df = events.join(pd.get_dummies(events['event'], prefix_sep='_'))"
   ]
  },
  {
   "cell_type": "markdown",
   "metadata": {},
   "source": [
    "Les variables d'interêt sont ensuite regroupées dans un nouveau dataset appelé transac_df_summary"
   ]
  },
  {
   "cell_type": "code",
   "execution_count": 4,
   "metadata": {},
   "outputs": [],
   "source": [
    "transac_df_summary = transac_df.groupby('visitorid').agg({'view': 'sum', 'addtocart': 'sum', 'transaction': 'sum'})"
   ]
  },
  {
   "cell_type": "markdown",
   "metadata": {},
   "source": [
    "On ne garde que les visiteurs qui ont effectué au moins une transaction sur le site au cours de la période."
   ]
  },
  {
   "cell_type": "code",
   "execution_count": 5,
   "metadata": {},
   "outputs": [
    {
     "data": {
      "text/html": [
       "<div>\n",
       "<style scoped>\n",
       "    .dataframe tbody tr th:only-of-type {\n",
       "        vertical-align: middle;\n",
       "    }\n",
       "\n",
       "    .dataframe tbody tr th {\n",
       "        vertical-align: top;\n",
       "    }\n",
       "\n",
       "    .dataframe thead th {\n",
       "        text-align: right;\n",
       "    }\n",
       "</style>\n",
       "<table border=\"1\" class=\"dataframe\">\n",
       "  <thead>\n",
       "    <tr style=\"text-align: right;\">\n",
       "      <th></th>\n",
       "      <th>view</th>\n",
       "      <th>addtocart</th>\n",
       "      <th>transaction</th>\n",
       "    </tr>\n",
       "    <tr>\n",
       "      <th>visitorid</th>\n",
       "      <th></th>\n",
       "      <th></th>\n",
       "      <th></th>\n",
       "    </tr>\n",
       "  </thead>\n",
       "  <tbody>\n",
       "    <tr>\n",
       "      <th>172</th>\n",
       "      <td>33.0</td>\n",
       "      <td>3.0</td>\n",
       "      <td>2.0</td>\n",
       "    </tr>\n",
       "    <tr>\n",
       "      <th>186</th>\n",
       "      <td>2.0</td>\n",
       "      <td>1.0</td>\n",
       "      <td>1.0</td>\n",
       "    </tr>\n",
       "    <tr>\n",
       "      <th>264</th>\n",
       "      <td>3.0</td>\n",
       "      <td>2.0</td>\n",
       "      <td>2.0</td>\n",
       "    </tr>\n",
       "    <tr>\n",
       "      <th>419</th>\n",
       "      <td>4.0</td>\n",
       "      <td>1.0</td>\n",
       "      <td>1.0</td>\n",
       "    </tr>\n",
       "    <tr>\n",
       "      <th>539</th>\n",
       "      <td>4.0</td>\n",
       "      <td>2.0</td>\n",
       "      <td>1.0</td>\n",
       "    </tr>\n",
       "  </tbody>\n",
       "</table>\n",
       "</div>"
      ],
      "text/plain": [
       "           view  addtocart  transaction\n",
       "visitorid                              \n",
       "172        33.0        3.0          2.0\n",
       "186         2.0        1.0          1.0\n",
       "264         3.0        2.0          2.0\n",
       "419         4.0        1.0          1.0\n",
       "539         4.0        2.0          1.0"
      ]
     },
     "execution_count": 5,
     "metadata": {},
     "output_type": "execute_result"
    }
   ],
   "source": [
    "transac_df_summary = transac_df_summary[transac_df_summary['transaction'] >= 1]\n",
    "transac_df_summary.head()"
   ]
  },
  {
   "cell_type": "markdown",
   "metadata": {},
   "source": [
    "La prédiction par la régression linéaire suppose à priori une relation linéaire entre les variables et une certaine \n",
    "corrélation entre elles. Le graphique pairplot ci-dessous confirme l'hypothèse de linéarité entre la variable d'intérêt (nnombre de transactions) et les autres variables explicatives (nombre de vues/mises au panier). Elles sont également très corrélées avec la variable indépendante (coefficient de corrélation très proche de l'unité). Par ailleurs, on détecte une forte multicolinéarité entre les features qui risque de conduire à un sur-apprentissage du modèle."
   ]
  },
  {
   "cell_type": "code",
   "execution_count": 6,
   "metadata": {},
   "outputs": [
    {
     "data": {
      "text/plain": [
       "<Figure size 720x720 with 0 Axes>"
      ]
     },
     "metadata": {},
     "output_type": "display_data"
    },
    {
     "data": {
      "image/png": "[encoded data removed]",
      "text/plain": [
       "<Figure size 540x540 with 12 Axes>"
      ]
     },
     "metadata": {
      "needs_background": "light"
     },
     "output_type": "display_data"
    }
   ],
   "source": [
    "plt.figure(figsize =(10,10))\n",
    "\n",
    "sns.pairplot(transac_df_summary[['view', 'addtocart', 'transaction']]);"
   ]
  },
  {
   "cell_type": "code",
   "execution_count": 7,
   "metadata": {},
   "outputs": [
    {
     "data": {
      "image/png": "[encoded data removed]",
      "text/plain": [
       "<Figure size 720x720 with 2 Axes>"
      ]
     },
     "metadata": {
      "needs_background": "light"
     },
     "output_type": "display_data"
    }
   ],
   "source": [
    "plt.figure(figsize=(10,10))\n",
    "sns.heatmap(transac_df_summary.corr(), annot=True, cmap=\"RdBu_r\", center =0);"
   ]
  },
  {
   "cell_type": "code",
   "execution_count": null,
   "metadata": {},
   "outputs": [],
   "source": [
    "On normalise les données avec la méthode Min-Max"
   ]
  },
  {
   "cell_type": "code",
   "execution_count": 8,
   "metadata": {},
   "outputs": [],
   "source": [
    "from sklearn.preprocessing import MinMaxScaler\n",
    "\n",
    "scaler = MinMaxScaler()\n",
    "data = pd.DataFrame(scaler.fit_transform(transac_df_summary), columns= transac_df_summary.columns)"
   ]
  },
  {
   "cell_type": "markdown",
   "metadata": {},
   "source": [
    "On stocke la variable 'transaction' de data dans target et le reste des variables dans features. On sépare ensuite les données en un ensemble d'apprentissage et un ensemble de test contenant 20% des données. La reproductibilité de l'aléatoire est fixé à 150."
   ]
  },
  {
   "cell_type": "code",
   "execution_count": 9,
   "metadata": {},
   "outputs": [],
   "source": [
    "target = data['transaction']\n",
    "features = data.drop('transaction', axis =1)\n",
    "\n",
    "from sklearn.model_selection import train_test_split\n",
    "\n",
    "X_train, X_test, y_train, y_test = train_test_split(features, target, test_size=0.2, random_state = 150)"
   ]
  },
  {
   "cell_type": "markdown",
   "metadata": {},
   "source": [
    "Ajustement du modèle de régression"
   ]
  },
  {
   "cell_type": "code",
   "execution_count": 14,
   "metadata": {},
   "outputs": [
    {
     "data": {
      "text/plain": [
       "LinearRegression()"
      ]
     },
     "execution_count": 14,
     "metadata": {},
     "output_type": "execute_result"
    }
   ],
   "source": [
    "from sklearn.linear_model import LinearRegression\n",
    "\n",
    "reg = LinearRegression()\n",
    "reg.fit(X_train, y_train)"
   ]
  },
  {
   "cell_type": "markdown",
   "metadata": {},
   "source": [
    "Le modèle de regression linéaire estimé s'écrit : transaction = -0.001258 + 0.221049*view + 0.722688*addtocart. Le nombre de vues et plus encore le nombre de mises au panier augmentent positivement la probabilité de faire une transaction sur le site."
   ]
  },
  {
   "cell_type": "code",
   "execution_count": 15,
   "metadata": {},
   "outputs": [
    {
     "data": {
      "text/html": [
       "<div>\n",
       "<style scoped>\n",
       "    .dataframe tbody tr th:only-of-type {\n",
       "        vertical-align: middle;\n",
       "    }\n",
       "\n",
       "    .dataframe tbody tr th {\n",
       "        vertical-align: top;\n",
       "    }\n",
       "\n",
       "    .dataframe thead th {\n",
       "        text-align: right;\n",
       "    }\n",
       "</style>\n",
       "<table border=\"1\" class=\"dataframe\">\n",
       "  <thead>\n",
       "    <tr style=\"text-align: right;\">\n",
       "      <th></th>\n",
       "      <th>Coefficient estimé</th>\n",
       "    </tr>\n",
       "  </thead>\n",
       "  <tbody>\n",
       "    <tr>\n",
       "      <th>intercept</th>\n",
       "      <td>-0.001258</td>\n",
       "    </tr>\n",
       "    <tr>\n",
       "      <th>view</th>\n",
       "      <td>0.221049</td>\n",
       "    </tr>\n",
       "    <tr>\n",
       "      <th>addtocart</th>\n",
       "      <td>0.722688</td>\n",
       "    </tr>\n",
       "  </tbody>\n",
       "</table>\n",
       "</div>"
      ],
      "text/plain": [
       "           Coefficient estimé\n",
       "intercept           -0.001258\n",
       "view                 0.221049\n",
       "addtocart            0.722688"
      ]
     },
     "execution_count": 15,
     "metadata": {},
     "output_type": "execute_result"
    }
   ],
   "source": [
    "coeffs_reg = list(reg.coef_)\n",
    "coeffs_reg.insert(0, reg.intercept_)\n",
    "\n",
    "feats = list(features.columns)\n",
    "feats.insert(0, 'intercept')\n",
    "\n",
    "pd.DataFrame({'Coefficient estimé': coeffs_reg}, index = feats)"
   ]
  },
  {
   "cell_type": "markdown",
   "metadata": {},
   "source": [
    "Faisons maintenant le diagnostic du modèle au travers de différents tests :ajustement du modèle (coefficient de détermination), analyse des résidus,...)"
   ]
  },
  {
   "cell_type": "markdown",
   "metadata": {},
   "source": [
    "Les coefficients de détermination obtenus sur les deux échantillons sont très bons et très proches. Le modèle est bien \n",
    "ajusté aux données. Toutefois, le R2 obtenu par validation croisée est plus faible laissant présager d'un problème over-fitting."
   ]
  },
  {
   "cell_type": "code",
   "execution_count": 16,
   "metadata": {},
   "outputs": [
    {
     "name": "stdout",
     "output_type": "stream",
     "text": [
      "R2 du modèle-échantillon d'entrainement : 0.9169061520023433\n",
      "R2 obtenu par Cv : 0.7217781731544015\n",
      "R2 du modèle-échantillon test : 0.9331201785673228\n"
     ]
    }
   ],
   "source": [
    "from sklearn.model_selection import cross_val_predict, cross_val_score, cross_validate\n",
    "\n",
    "print(\"R2 du modèle-échantillon d'entrainement :\", reg.score(X_train, y_train))\n",
    "print(\"R2 obtenu par Cv :\", cross_val_score(reg,X_train,y_train).mean())\n",
    "print(\"R2 du modèle-échantillon test :\",reg.score(X_test,y_test))"
   ]
  },
  {
   "cell_type": "code",
   "execution_count": null,
   "metadata": {},
   "outputs": [],
   "source": [
    "Analyse des résidus du modèle de régression"
   ]
  },
  {
   "cell_type": "code",
   "execution_count": 17,
   "metadata": {},
   "outputs": [
    {
     "name": "stdout",
     "output_type": "stream",
     "text": [
      "MSE échantillon-entrainement : 2.1955758096655935e-05\n",
      "MSE échantillon-test: 1.3426653616593717e-05\n"
     ]
    }
   ],
   "source": [
    "from sklearn.metrics import mean_squared_error\n",
    "\n",
    "reg_pred_train = reg.predict(X_train)\n",
    "reg_pred_test = reg.predict(X_test)\n",
    "\n",
    "print(\"MSE échantillon-entrainement :\", mean_squared_error(reg_pred_train, y_train))\n",
    "print(\"MSE échantillon-test:\", mean_squared_error(reg_pred_test, y_test))"
   ]
  },
  {
   "cell_type": "markdown",
   "metadata": {},
   "source": [
    "L'analyse des résidus révèle qu'ils ne sont pas parfaitement disséminés autour de la droite d'équation y=0 que ce soit pour l'échantillon d'entrainement ou de test. Ils sont donc à priori hétérocédastiques. De plus, le diagramme Quantile-Quantile (QQ-Plot) indique clairement que leur distribution ne suit pas une loi normale car ils ne sont pas alignés sur la première bissectrice. "
   ]
  },
  {
   "cell_type": "code",
   "execution_count": 18,
   "metadata": {},
   "outputs": [
    {
     "data": {
      "image/png": "[encoded data removed]",
      "text/plain": [
       "<Figure size 576x396 with 2 Axes>"
      ]
     },
     "metadata": {},
     "output_type": "display_data"
    }
   ],
   "source": [
    "#! pip install yellowbrick : package à installer avant\n",
    "from yellowbrick.regressor import ResidualsPlot\n",
    "\n",
    "visualizer = ResidualsPlot(reg, hist=False, qqplot=True)\n",
    "visualizer.fit(X_train, y_train)\n",
    "visualizer.score(X_test, y_test)\n",
    "visualizer.show();"
   ]
  },
  {
   "cell_type": "code",
   "execution_count": 19,
   "metadata": {},
   "outputs": [
    {
     "name": "stdout",
     "output_type": "stream",
     "text": [
      "                            OLS Regression Results                            \n",
      "==============================================================================\n",
      "Dep. Variable:            transaction   R-squared:                       0.920\n",
      "Model:                            OLS   Adj. R-squared:                  0.920\n",
      "Method:                 Least Squares   F-statistic:                 6.744e+04\n",
      "Date:                Thu, 25 Feb 2021   Prob (F-statistic):               0.00\n",
      "Time:                        16:09:14   Log-Likelihood:                 46739.\n",
      "No. Observations:               11719   AIC:                        -9.347e+04\n",
      "Df Residuals:                   11716   BIC:                        -9.345e+04\n",
      "Df Model:                           2                                         \n",
      "Covariance Type:            nonrobust                                         \n",
      "==============================================================================\n",
      "                 coef    std err          t      P>|t|      [0.025      0.975]\n",
      "------------------------------------------------------------------------------\n",
      "Intercept     -0.0013   4.23e-05    -30.133      0.000      -0.001      -0.001\n",
      "view           0.1764      0.005     35.620      0.000       0.167       0.186\n",
      "addtocart      0.7658      0.005    153.693      0.000       0.756       0.776\n",
      "==============================================================================\n",
      "Omnibus:                    21253.271   Durbin-Watson:                   2.029\n",
      "Prob(Omnibus):                  0.000   Jarque-Bera (JB):        332122593.704\n",
      "Skew:                         -12.265   Prob(JB):                         0.00\n",
      "Kurtosis:                     827.361   Cond. No.                         164.\n",
      "==============================================================================\n",
      "\n",
      "Notes:\n",
      "[1] Standard Errors assume that the covariance matrix of the errors is correctly specified.\n"
     ]
    }
   ],
   "source": [
    "#Une autre méthode pour la régression linéaire avec la bibliothèque statsmodels qui donne des résultats très proches \n",
    "# de ceux obtenus avec sklearn\n",
    "\n",
    "import statsmodels.formula.api as smf\n",
    "\n",
    "regression = smf.ols('transaction ~ view + addtocart', data = data)\n",
    "res = regression.fit()\n",
    "print(res.summary())"
   ]
  },
  {
   "cell_type": "markdown",
   "metadata": {},
   "source": [
    "Conclusion : le modèle est certes bien ajusté aux données (R2 > 90 %), mais il ne possède pas de bonnes propriétés statistiques (résidus hétérocédastiques et non normaux). De plus, il présente des signes de sur-apprentissage probablement dus à la multicolinéarité entre les variables explicatives."
   ]
  },
  {
   "cell_type": "markdown",
   "metadata": {},
   "source": [
    "*---------------------------------------------------------------------------------------------------------------------*"
   ]
  },
  {
   "cell_type": "markdown",
   "metadata": {},
   "source": [
    "Grâce à la régression régularisée, on peut corriger cet effet de sur-apprentissage dans le modèle. On se propose de tester trois algorithmes (la régression ridge, la régression Lasso et la régression ElasticNet) sur des données qui auront été préalablement standardisées."
   ]
  },
  {
   "cell_type": "markdown",
   "metadata": {},
   "source": [
    "*---Régression Ridge---*"
   ]
  },
  {
   "cell_type": "markdown",
   "metadata": {},
   "source": [
    "On commence par normaliser les variables en utilisant la méthode StandardScaler de la classe sklearn.preprocessing"
   ]
  },
  {
   "cell_type": "code",
   "execution_count": 20,
   "metadata": {},
   "outputs": [],
   "source": [
    "from sklearn.preprocessing import StandardScaler\n",
    "\n",
    "scaler = StandardScaler()\n",
    "data_scaled = pd.DataFrame(scaler.fit_transform(transac_df_summary), columns= transac_df_summary.columns)"
   ]
  },
  {
   "cell_type": "markdown",
   "metadata": {},
   "source": [
    "On isole la variable cible (target2) et les variables explicatives (features2) on scinde les données en deux échantillons. L'échantillon test représente 20% de l'ensemble des observations; la reproductibilité de l'aléatoire est fixé à 280."
   ]
  },
  {
   "cell_type": "code",
   "execution_count": 21,
   "metadata": {},
   "outputs": [],
   "source": [
    "target2 = data_scaled['transaction']\n",
    "features2 = data_scaled.drop('transaction', axis =1)\n",
    "\n",
    "from sklearn.model_selection import train_test_split\n",
    "\n",
    "X_train, X_test, y_train, y_test = train_test_split(features2, target2, test_size=0.2, random_state = 280)"
   ]
  },
  {
   "cell_type": "markdown",
   "metadata": {},
   "source": [
    "Nous allons utiliser la classe RidgeCV qui par validation croisée permettra de trouver le meilleur modèle prédictif. Différentes valeurs de alpha (coefficient de pénalité) seront testés pour trouver celle qui minimise le critère d'erreur."
   ]
  },
  {
   "cell_type": "code",
   "execution_count": 22,
   "metadata": {},
   "outputs": [
    {
     "data": {
      "text/plain": [
       "RidgeCV(alphas=array([1.0e-03, 5.0e-02, 1.0e-02, 1.0e-01, 3.0e-01, 5.0e-01, 7.0e-01,\n",
       "       1.0e+00, 5.0e+00, 1.0e+01, 1.5e+01, 3.0e+01, 5.0e+01]))"
      ]
     },
     "execution_count": 22,
     "metadata": {},
     "output_type": "execute_result"
    }
   ],
   "source": [
    "from sklearn.linear_model import RidgeCV\n",
    "\n",
    "ridge_reg = RidgeCV(alphas= (0.001, 0.05, 0.01, 0.1, 0.3, 0.5, 0.7, 1, 5, 10, 15, 30, 50))\n",
    "ridge_reg.fit(X_train, y_train)"
   ]
  },
  {
   "cell_type": "code",
   "execution_count": 24,
   "metadata": {},
   "outputs": [
    {
     "data": {
      "text/html": [
       "<div>\n",
       "<style scoped>\n",
       "    .dataframe tbody tr th:only-of-type {\n",
       "        vertical-align: middle;\n",
       "    }\n",
       "\n",
       "    .dataframe tbody tr th {\n",
       "        vertical-align: top;\n",
       "    }\n",
       "\n",
       "    .dataframe thead th {\n",
       "        text-align: right;\n",
       "    }\n",
       "</style>\n",
       "<table border=\"1\" class=\"dataframe\">\n",
       "  <thead>\n",
       "    <tr style=\"text-align: right;\">\n",
       "      <th></th>\n",
       "      <th>Coefficient estimé</th>\n",
       "    </tr>\n",
       "  </thead>\n",
       "  <tbody>\n",
       "    <tr>\n",
       "      <th>intercept</th>\n",
       "      <td>-0.001303</td>\n",
       "    </tr>\n",
       "    <tr>\n",
       "      <th>view</th>\n",
       "      <td>0.186705</td>\n",
       "    </tr>\n",
       "    <tr>\n",
       "      <th>addtocart</th>\n",
       "      <td>0.768730</td>\n",
       "    </tr>\n",
       "  </tbody>\n",
       "</table>\n",
       "</div>"
      ],
      "text/plain": [
       "           Coefficient estimé\n",
       "intercept           -0.001303\n",
       "view                 0.186705\n",
       "addtocart            0.768730"
      ]
     },
     "execution_count": 24,
     "metadata": {},
     "output_type": "execute_result"
    }
   ],
   "source": [
    "coeffs_ridge = list(ridge_reg.coef_)\n",
    "coeffs_ridge.insert(0, ridge_reg.intercept_)\n",
    "\n",
    "feats = list(features.columns)\n",
    "feats.insert(0, 'intercept')\n",
    "\n",
    "pd.DataFrame({'Coefficient estimé': coeffs_ridge}, index = feats)"
   ]
  },
  {
   "cell_type": "markdown",
   "metadata": {},
   "source": [
    "La valeur optimale de alpha qui minimise le critère d'erreur est de 0.001. Le modèle affiche de très bonnes performances à la fois sur l'échantillon d'entrainement que sur l'échantillon test. Le score sur l'échantillon d'entrainement obtenu avec la régression rigde s'est légèrement améliorée par rapport à la régression linéaire, mais sur l'échantillon test il a regressé (87.7% contre 93.3% auparavant)."
   ]
  },
  {
   "cell_type": "code",
   "execution_count": 25,
   "metadata": {},
   "outputs": [
    {
     "name": "stdout",
     "output_type": "stream",
     "text": [
      "Valeur optimal de alpha : 0.001\n",
      "Score échantillon-entrainement : 0.9343477476135365\n",
      "Score obtenu par Cv : 0.8202125801817377\n",
      "Score échantillon-test : 0.87692386259216\n"
     ]
    }
   ],
   "source": [
    "print( \"Valeur optimal de alpha :\" ,ridge_reg.alpha_)\n",
    "print(\"Score échantillon-entrainement :\", ridge_reg.score(X_train, y_train))\n",
    "print(\"Score obtenu par Cv :\", cross_val_score(ridge_reg,X_train,y_train).mean())\n",
    "print(\"Score échantillon-test :\", ridge_reg.score(X_test, y_test))"
   ]
  },
  {
   "cell_type": "markdown",
   "metadata": {},
   "source": [
    "Analysons l'erreur quadratique moyenne de prédiction sur les deux échantillons."
   ]
  },
  {
   "cell_type": "code",
   "execution_count": 26,
   "metadata": {},
   "outputs": [
    {
     "name": "stdout",
     "output_type": "stream",
     "text": [
      "MSE échantillon-entrainement : 0.06078056910110858\n",
      "MSE échantillon-test: 0.15956248989003244\n"
     ]
    }
   ],
   "source": [
    "from sklearn.metrics import mean_squared_error\n",
    "\n",
    "ridge_pred_train = ridge_reg.predict(X_train)\n",
    "ridge_pred_test = ridge_reg.predict(X_test)\n",
    "\n",
    "print(\"MSE échantillon-entrainement :\", mean_squared_error(ridge_pred_train, y_train))\n",
    "print(\"MSE échantillon-test:\", mean_squared_error(ridge_pred_test, y_test))"
   ]
  },
  {
   "cell_type": "markdown",
   "metadata": {},
   "source": [
    "Conclusion : L'erreur quadratique moyenne de prédiction sur l'échantillon d'entrainement est deux fois moindre que sur l'échantillon test. Avec son coeffcient de détermination qui est aussi plus élevé, on peut déduire que le sur-aprentissage persiste sur l'échantillon d'entrainement."
   ]
  },
  {
   "cell_type": "markdown",
   "metadata": {},
   "source": [
    "*---Régression Lasso---*"
   ]
  },
  {
   "cell_type": "code",
   "execution_count": null,
   "metadata": {},
   "outputs": [],
   "source": [
    "Déterminons la valeur optimale de alpha par validation croisée à partir de la classe LassoCV"
   ]
  },
  {
   "cell_type": "code",
   "execution_count": 27,
   "metadata": {},
   "outputs": [
    {
     "data": {
      "text/plain": [
       "LassoCV(alphas=[0.001, 0.05, 0.01, 0.1, 0.3, 0.5, 0.7, 1, 5, 10, 15, 30, 50],\n",
       "        cv=10)"
      ]
     },
     "execution_count": 27,
     "metadata": {},
     "output_type": "execute_result"
    }
   ],
   "source": [
    "from sklearn.linear_model import LassoCV\n",
    "\n",
    "lasso_reg = LassoCV(alphas = [0.001, 0.05, 0.01, 0.1, 0.3, 0.5, 0.7, 1, 5, 10, 15, 30, 50], cv = 10)\n",
    "lasso_reg.fit(X_train, y_train)"
   ]
  },
  {
   "cell_type": "code",
   "execution_count": 28,
   "metadata": {},
   "outputs": [
    {
     "data": {
      "text/html": [
       "<div>\n",
       "<style scoped>\n",
       "    .dataframe tbody tr th:only-of-type {\n",
       "        vertical-align: middle;\n",
       "    }\n",
       "\n",
       "    .dataframe tbody tr th {\n",
       "        vertical-align: top;\n",
       "    }\n",
       "\n",
       "    .dataframe thead th {\n",
       "        text-align: right;\n",
       "    }\n",
       "</style>\n",
       "<table border=\"1\" class=\"dataframe\">\n",
       "  <thead>\n",
       "    <tr style=\"text-align: right;\">\n",
       "      <th></th>\n",
       "      <th>Coefficient estimé</th>\n",
       "    </tr>\n",
       "  </thead>\n",
       "  <tbody>\n",
       "    <tr>\n",
       "      <th>intercept</th>\n",
       "      <td>-0.001307</td>\n",
       "    </tr>\n",
       "    <tr>\n",
       "      <th>view</th>\n",
       "      <td>0.186613</td>\n",
       "    </tr>\n",
       "    <tr>\n",
       "      <th>addtocart</th>\n",
       "      <td>0.767782</td>\n",
       "    </tr>\n",
       "  </tbody>\n",
       "</table>\n",
       "</div>"
      ],
      "text/plain": [
       "           Coefficient estimé\n",
       "intercept           -0.001307\n",
       "view                 0.186613\n",
       "addtocart            0.767782"
      ]
     },
     "execution_count": 28,
     "metadata": {},
     "output_type": "execute_result"
    }
   ],
   "source": [
    "coeffs_lasso = list(lasso_reg.coef_)\n",
    "coeffs_lasso.insert(0, lasso_reg.intercept_)\n",
    "\n",
    "feats = list(features.columns)\n",
    "feats.insert(0, 'intercept')\n",
    "\n",
    "pd.DataFrame({'Coefficient estimé': coeffs_lasso}, index = feats)"
   ]
  },
  {
   "cell_type": "markdown",
   "metadata": {},
   "source": [
    "La valeur optimale de alpha qui minimise le critère d'erreur est de 0.001. La régression Lasso conduit à un modèle avec les mêmes performances que celui obtenu avec la régression Ridge : un score légèrement plus élevé avec l'échantillon d'entrainement qu'avec l'échantillon test."
   ]
  },
  {
   "cell_type": "code",
   "execution_count": 29,
   "metadata": {},
   "outputs": [
    {
     "name": "stdout",
     "output_type": "stream",
     "text": [
      "Valeur optimale de alpha : 0.001\n",
      "Score échantillon-entrainement : 0.9343466286938873\n",
      "Score obtenu par Cv : 0.820596761230075\n",
      "Score échantillon-test : 0.8767269912766635\n"
     ]
    }
   ],
   "source": [
    "print(\"Valeur optimale de alpha :\", lasso_reg.alpha_)\n",
    "print(\"Score échantillon-entrainement :\", lasso_reg.score(X_train, y_train))\n",
    "print(\"Score obtenu par Cv :\", cross_val_score(lasso_reg,X_train,y_train).mean())\n",
    "print(\"Score échantillon-test :\", lasso_reg.score(X_test, y_test))"
   ]
  },
  {
   "cell_type": "markdown",
   "metadata": {},
   "source": [
    "L'erreur quadratique moyenne de prédiction sur l'échantillon d'entrainement est aussi deux plus élevé que sur l'échantillon test."
   ]
  },
  {
   "cell_type": "code",
   "execution_count": 30,
   "metadata": {},
   "outputs": [
    {
     "name": "stdout",
     "output_type": "stream",
     "text": [
      "MSE échantillon-entrainement : 0.060781604992042666\n",
      "MSE échantillon-test: 0.15981772439730701\n"
     ]
    }
   ],
   "source": [
    "from sklearn.metrics import mean_squared_error\n",
    "\n",
    "lasso_pred_train = lasso_reg.predict(X_train)\n",
    "lasso_pred_test = lasso_reg.predict(X_test)\n",
    "\n",
    "print(\"MSE échantillon-entrainement :\", mean_squared_error(lasso_pred_train, y_train))\n",
    "print(\"MSE échantillon-test:\", mean_squared_error(lasso_pred_test, y_test))"
   ]
  },
  {
   "cell_type": "code",
   "execution_count": null,
   "metadata": {},
   "outputs": [],
   "source": [
    "Les propriétés statistiques des résidus ne se sont pas améliorés avec les deux modèles."
   ]
  },
  {
   "cell_type": "code",
   "execution_count": 31,
   "metadata": {},
   "outputs": [
    {
     "data": {
      "image/png": "[encoded data removed]",
      "text/plain": [
       "<Figure size 576x396 with 2 Axes>"
      ]
     },
     "metadata": {},
     "output_type": "display_data"
    }
   ],
   "source": [
    "visualizer_ridge = ResidualsPlot(ridge_reg, hist=False, qqplot=True)\n",
    "visualizer_ridge.fit(X_train, y_train)\n",
    "visualizer_ridge.score(X_test, y_test)\n",
    "visualizer_ridge.show();"
   ]
  },
  {
   "cell_type": "code",
   "execution_count": 32,
   "metadata": {},
   "outputs": [
    {
     "data": {
      "image/png": "[encoded data removed]",
      "text/plain": [
       "<Figure size 576x396 with 2 Axes>"
      ]
     },
     "metadata": {},
     "output_type": "display_data"
    }
   ],
   "source": [
    "visualizer_lasso = ResidualsPlot(lasso_reg, hist=False, qqplot=True)\n",
    "visualizer_lasso.fit(X_train, y_train)\n",
    "visualizer_lasso.score(X_test, y_test)\n",
    "visualizer_lasso.show();"
   ]
  },
  {
   "cell_type": "markdown",
   "metadata": {},
   "source": [
    "*---Régression ElaticNet---*"
   ]
  },
  {
   "cell_type": "markdown",
   "metadata": {},
   "source": [
    "Les méthodes de régression Ridge et Lasso n'ont pas permis pour l'instant de trouver le meilleur modèle. Nous nous proposons de tester la méthode ElasticNet qui, par construction, combine les coefficients de pénalités des régressions précédentes."
   ]
  },
  {
   "cell_type": "code",
   "execution_count": 33,
   "metadata": {},
   "outputs": [
    {
     "data": {
      "text/plain": [
       "ElasticNetCV(alphas=(0.001, 0.05, 0.01, 0.1, 0.3, 0.5, 0.7, 1, 5, 10, 15, 30,\n",
       "                     50),\n",
       "             cv=12,\n",
       "             l1_ratio=(0.001, 0.05, 0.01, 0.1, 0.3, 0.5, 0.7, 1, 5, 10, 15, 30,\n",
       "                       50, 70))"
      ]
     },
     "execution_count": 33,
     "metadata": {},
     "output_type": "execute_result"
    }
   ],
   "source": [
    "from sklearn.linear_model import ElasticNetCV\n",
    "\n",
    "model_en = ElasticNetCV(cv=12, l1_ratio = (0.001, 0.05, 0.01, 0.1, 0.3, 0.5, 0.7, 1, 5, 10, 15, 30, 50,70), \n",
    "                        alphas= (0.001, 0.05, 0.01, 0.1, 0.3, 0.5, 0.7, 1, 5, 10, 15, 30, 50))\n",
    "model_en.fit(X_train, y_train)"
   ]
  },
  {
   "cell_type": "code",
   "execution_count": 34,
   "metadata": {},
   "outputs": [
    {
     "data": {
      "text/html": [
       "<div>\n",
       "<style scoped>\n",
       "    .dataframe tbody tr th:only-of-type {\n",
       "        vertical-align: middle;\n",
       "    }\n",
       "\n",
       "    .dataframe tbody tr th {\n",
       "        vertical-align: top;\n",
       "    }\n",
       "\n",
       "    .dataframe thead th {\n",
       "        text-align: right;\n",
       "    }\n",
       "</style>\n",
       "<table border=\"1\" class=\"dataframe\">\n",
       "  <thead>\n",
       "    <tr style=\"text-align: right;\">\n",
       "      <th></th>\n",
       "      <th>Coefficient estimé</th>\n",
       "    </tr>\n",
       "  </thead>\n",
       "  <tbody>\n",
       "    <tr>\n",
       "      <th>intercept</th>\n",
       "      <td>-0.001315</td>\n",
       "    </tr>\n",
       "    <tr>\n",
       "      <th>view</th>\n",
       "      <td>0.188946</td>\n",
       "    </tr>\n",
       "    <tr>\n",
       "      <th>addtocart</th>\n",
       "      <td>0.765867</td>\n",
       "    </tr>\n",
       "  </tbody>\n",
       "</table>\n",
       "</div>"
      ],
      "text/plain": [
       "           Coefficient estimé\n",
       "intercept           -0.001315\n",
       "view                 0.188946\n",
       "addtocart            0.765867"
      ]
     },
     "execution_count": 34,
     "metadata": {},
     "output_type": "execute_result"
    }
   ],
   "source": [
    "coeffs_en = list(model_en.coef_)\n",
    "coeffs_en.insert(0, model_en.intercept_)\n",
    "\n",
    "feats = list(features.columns)\n",
    "feats.insert(0, 'intercept')\n",
    "\n",
    "pd.DataFrame({'Coefficient estimé': coeffs_en}, index = feats)"
   ]
  },
  {
   "cell_type": "code",
   "execution_count": null,
   "metadata": {},
   "outputs": [],
   "source": [
    "Les performances du modèle prédictif sont également identiques."
   ]
  },
  {
   "cell_type": "code",
   "execution_count": 35,
   "metadata": {},
   "outputs": [
    {
     "name": "stdout",
     "output_type": "stream",
     "text": [
      "Valeur optimale de alpha : 0.001\n",
      "Score échantillon-entrainement : 0.934345832469382\n",
      "Score obtenu par Cv : 0.8204749333252874\n",
      "Score échantillon-test : 0.8767333929422961\n"
     ]
    }
   ],
   "source": [
    "print(\"Valeur optimale de alpha :\", model_en.alpha_)\n",
    "print(\"Score échantillon-entrainement :\", model_en.score(X_train, y_train))\n",
    "print(\"Score obtenu par Cv :\", cross_val_score(model_en,X_train,y_train).mean())\n",
    "print(\"Score échantillon-test :\", model_en.score(X_test, y_test))"
   ]
  },
  {
   "cell_type": "code",
   "execution_count": 36,
   "metadata": {},
   "outputs": [
    {
     "name": "stdout",
     "output_type": "stream",
     "text": [
      "MSE échantillon-entrainement : 0.06078234213321921\n",
      "MSE échantillon-test: 0.15980942493545122\n"
     ]
    }
   ],
   "source": [
    "elasCV_pred_train = model_en.predict(X_train)\n",
    "elasCV_pred_test = model_en.predict(X_test)\n",
    "\n",
    "print(\"MSE échantillon-entrainement :\", mean_squared_error(elasCV_pred_train, y_train))\n",
    "print(\"MSE échantillon-test:\", mean_squared_error(elasCV_pred_test, y_test))"
   ]
  },
  {
   "cell_type": "code",
   "execution_count": 37,
   "metadata": {},
   "outputs": [
    {
     "data": {
      "image/png": "[encoded data removed]",
      "text/plain": [
       "<Figure size 576x396 with 2 Axes>"
      ]
     },
     "metadata": {},
     "output_type": "display_data"
    }
   ],
   "source": [
    "visualizer_elasCV = ResidualsPlot(model_en, hist=False, qqplot=True)\n",
    "visualizer_elasCV.fit(X_train, y_train)\n",
    "visualizer_elasCV.score(X_test, y_test)\n",
    "visualizer_elasCV.show();"
   ]
  },
  {
   "cell_type": "markdown",
   "metadata": {},
   "source": [
    "Conclusion : La régression Ridge a sensiblement amélioré le modèle par rapport aux modèles. Elle a dans un premier temps renforcé l'influence de la variable 'addtocart' comme facteur explicatif principal des transactions. Elle a augmenté sensiblement la performance du modèle sur l'échantillon test qui est passé de 87.2% à 87.7%. L'erreur de prédiction a chuté considérablement pour les deux échantillons quoique l'écart entre les deux persiste."
   ]
  },
  {
   "cell_type": "code",
   "execution_count": 39,
   "metadata": {},
   "outputs": [
    {
     "data": {
      "text/html": [
       "<div>\n",
       "<style scoped>\n",
       "    .dataframe tbody tr th:only-of-type {\n",
       "        vertical-align: middle;\n",
       "    }\n",
       "\n",
       "    .dataframe tbody tr th {\n",
       "        vertical-align: top;\n",
       "    }\n",
       "\n",
       "    .dataframe thead th {\n",
       "        text-align: right;\n",
       "    }\n",
       "</style>\n",
       "<table border=\"1\" class=\"dataframe\">\n",
       "  <thead>\n",
       "    <tr style=\"text-align: right;\">\n",
       "      <th></th>\n",
       "      <th>Régression linéaire</th>\n",
       "      <th>Régression Ridge</th>\n",
       "      <th>Régression Lasso</th>\n",
       "      <th>Régression ElasticNet</th>\n",
       "    </tr>\n",
       "  </thead>\n",
       "  <tbody>\n",
       "    <tr>\n",
       "      <th>intercept</th>\n",
       "      <td>-0.001258</td>\n",
       "      <td>-0.001303</td>\n",
       "      <td>-0.001307</td>\n",
       "      <td>-0.001315</td>\n",
       "    </tr>\n",
       "    <tr>\n",
       "      <th>view</th>\n",
       "      <td>0.221049</td>\n",
       "      <td>0.186705</td>\n",
       "      <td>0.186613</td>\n",
       "      <td>0.188946</td>\n",
       "    </tr>\n",
       "    <tr>\n",
       "      <th>addtocart</th>\n",
       "      <td>0.722688</td>\n",
       "      <td>0.768730</td>\n",
       "      <td>0.767782</td>\n",
       "      <td>0.765867</td>\n",
       "    </tr>\n",
       "  </tbody>\n",
       "</table>\n",
       "</div>"
      ],
      "text/plain": [
       "           Régression linéaire  Régression Ridge  Régression Lasso  \\\n",
       "intercept            -0.001258         -0.001303         -0.001307   \n",
       "view                  0.221049          0.186705          0.186613   \n",
       "addtocart             0.722688          0.768730          0.767782   \n",
       "\n",
       "           Régression ElasticNet  \n",
       "intercept              -0.001315  \n",
       "view                    0.188946  \n",
       "addtocart               0.765867  "
      ]
     },
     "execution_count": 39,
     "metadata": {},
     "output_type": "execute_result"
    }
   ],
   "source": [
    "#Les coefficients des paramètres estimés\n",
    "pd.DataFrame({'Régression linéaire': coeffs_reg, \n",
    "              'Régression Ridge': coeffs_ridge,\n",
    "              'Régression Lasso': coeffs_lasso,\n",
    "              'Régression ElasticNet': coeffs_en}, index = feats)"
   ]
  },
  {
   "cell_type": "code",
   "execution_count": 43,
   "metadata": {},
   "outputs": [
    {
     "data": {
      "text/html": [
       "<div>\n",
       "<style scoped>\n",
       "    .dataframe tbody tr th:only-of-type {\n",
       "        vertical-align: middle;\n",
       "    }\n",
       "\n",
       "    .dataframe tbody tr th {\n",
       "        vertical-align: top;\n",
       "    }\n",
       "\n",
       "    .dataframe thead th {\n",
       "        text-align: right;\n",
       "    }\n",
       "</style>\n",
       "<table border=\"1\" class=\"dataframe\">\n",
       "  <thead>\n",
       "    <tr style=\"text-align: right;\">\n",
       "      <th></th>\n",
       "      <th>Régression linéaire</th>\n",
       "      <th>Régression Ridge</th>\n",
       "      <th>Régression Lasso</th>\n",
       "      <th>Régression ElasticNet</th>\n",
       "    </tr>\n",
       "  </thead>\n",
       "  <tbody>\n",
       "    <tr>\n",
       "      <th>Train</th>\n",
       "      <td>0.933838</td>\n",
       "      <td>0.934348</td>\n",
       "      <td>0.934347</td>\n",
       "      <td>0.934346</td>\n",
       "    </tr>\n",
       "    <tr>\n",
       "      <th>C-V</th>\n",
       "      <td>0.820445</td>\n",
       "      <td>0.820213</td>\n",
       "      <td>0.820597</td>\n",
       "      <td>0.820475</td>\n",
       "    </tr>\n",
       "    <tr>\n",
       "      <th>Test</th>\n",
       "      <td>0.872897</td>\n",
       "      <td>0.876924</td>\n",
       "      <td>0.876727</td>\n",
       "      <td>0.876733</td>\n",
       "    </tr>\n",
       "  </tbody>\n",
       "</table>\n",
       "</div>"
      ],
      "text/plain": [
       "       Régression linéaire  Régression Ridge  Régression Lasso  \\\n",
       "Train             0.933838          0.934348          0.934347   \n",
       "C-V               0.820445          0.820213          0.820597   \n",
       "Test              0.872897          0.876924          0.876727   \n",
       "\n",
       "       Régression ElasticNet  \n",
       "Train               0.934346  \n",
       "C-V                 0.820475  \n",
       "Test                0.876733  "
      ]
     },
     "execution_count": 43,
     "metadata": {},
     "output_type": "execute_result"
    }
   ],
   "source": [
    "#Les performances\n",
    "pd.DataFrame({'Régression linéaire': (reg.score(X_train, y_train), cross_val_score(reg,X_train,y_train).mean(),reg.score(X_test,y_test)), \n",
    "              'Régression Ridge': (ridge_reg.score(X_train, y_train), cross_val_score(ridge_reg,X_train,y_train).mean(), ridge_reg.score(X_test, y_test)),\n",
    "              'Régression Lasso': (lasso_reg.score(X_train, y_train),cross_val_score(lasso_reg,X_train,y_train).mean(),lasso_reg.score(X_test, y_test)),\n",
    "              'Régression ElasticNet': (model_en.score(X_train, y_train),cross_val_score(model_en,X_train,y_train).mean(),model_en.score(X_test, y_test))}, index = ['Train', 'C-V','Test'])"
   ]
  },
  {
   "cell_type": "code",
   "execution_count": 44,
   "metadata": {},
   "outputs": [
    {
     "data": {
      "text/html": [
       "<div>\n",
       "<style scoped>\n",
       "    .dataframe tbody tr th:only-of-type {\n",
       "        vertical-align: middle;\n",
       "    }\n",
       "\n",
       "    .dataframe tbody tr th {\n",
       "        vertical-align: top;\n",
       "    }\n",
       "\n",
       "    .dataframe thead th {\n",
       "        text-align: right;\n",
       "    }\n",
       "</style>\n",
       "<table border=\"1\" class=\"dataframe\">\n",
       "  <thead>\n",
       "    <tr style=\"text-align: right;\">\n",
       "      <th></th>\n",
       "      <th>Régression linéaire</th>\n",
       "      <th>Régression Ridge</th>\n",
       "      <th>Régression Lasso</th>\n",
       "      <th>Régression ElasticNet</th>\n",
       "    </tr>\n",
       "  </thead>\n",
       "  <tbody>\n",
       "    <tr>\n",
       "      <th>Train</th>\n",
       "      <td>0.926039</td>\n",
       "      <td>0.060781</td>\n",
       "      <td>0.060782</td>\n",
       "      <td>0.060782</td>\n",
       "    </tr>\n",
       "    <tr>\n",
       "      <th>Test</th>\n",
       "      <td>1.296775</td>\n",
       "      <td>0.159562</td>\n",
       "      <td>0.159818</td>\n",
       "      <td>0.159809</td>\n",
       "    </tr>\n",
       "  </tbody>\n",
       "</table>\n",
       "</div>"
      ],
      "text/plain": [
       "       Régression linéaire  Régression Ridge  Régression Lasso  \\\n",
       "Train             0.926039          0.060781          0.060782   \n",
       "Test              1.296775          0.159562          0.159818   \n",
       "\n",
       "       Régression ElasticNet  \n",
       "Train               0.060782  \n",
       "Test                0.159809  "
      ]
     },
     "execution_count": 44,
     "metadata": {},
     "output_type": "execute_result"
    }
   ],
   "source": [
    "#Les erreurs de prédiction\n",
    "pd.DataFrame({'Régression linéaire': (mean_squared_error(reg_pred_train, y_train),mean_squared_error(reg_pred_test, y_test)), \n",
    "              'Régression Ridge': (mean_squared_error(ridge_pred_train, y_train), mean_squared_error(ridge_pred_test, y_test)),\n",
    "              'Régression Lasso': ( mean_squared_error(lasso_pred_train, y_train),mean_squared_error(lasso_pred_test, y_test) ),\n",
    "              'Régression ElasticNet': (mean_squared_error(elasCV_pred_train, y_train),mean_squared_error(elasCV_pred_test, y_test))}, index = ['Train','Test'])"
   ]
  }
 ],
 "metadata": {
  "kernelspec": {
   "display_name": "Python 3",
   "language": "python",
   "name": "python3"
  },
  "language_info": {
   "codemirror_mode": {
    "name": "ipython",
    "version": 3
   },
   "file_extension": ".py",
   "mimetype": "text/x-python",
   "name": "python",
   "nbconvert_exporter": "python",
   "pygments_lexer": "ipython3",
   "version": "3.8.5"
  }
 },
 "nbformat": 4,
 "nbformat_minor": 4
}
